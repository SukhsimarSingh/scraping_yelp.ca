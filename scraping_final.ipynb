{
 "cells": [
  {
   "cell_type": "code",
   "execution_count": null,
   "id": "7af6ff7e",
   "metadata": {
    "scrolled": true
   },
   "outputs": [
    {
     "name": "stdout",
     "output_type": "stream",
     "text": [
      "Enter url of a yelp restaurant: https://www.yelp.ca/biz/khao-san-road-toronto?page_src=related_bizes\n"
     ]
    }
   ],
   "source": [
    "import os\n",
    "import requests\n",
    "import re\n",
    "from bs4 import BeautifulSoup\n",
    "from csv import writer\n",
    "\n",
    "# \"https://www.yelp.ca/biz/khao-san-road-toronto?page_src=related_bizes\"\n",
    "\n",
    "url = input(\"Enter url of a yelp restaurant: \")\n",
    "page = requests.get(url)\n",
    "\n",
    "#if not re.match(r'https?://www.yelp.ca/',url):\n",
    "#    print('Please enter a valid website, or make sure it is a medium article')\n",
    "#    sys.exit(1)\n",
    "\n",
    "soup = BeautifulSoup(page.content, 'html.parser')\n",
    "\n",
    "for div in soup.find_all(\"div\", class_ = 'block-quote__09f24__nMk2G padding-l3__09f24__IOjKY border-color--default__09f24__NPAKY'): \n",
    "    div.decompose()"
   ]
  },
  {
   "cell_type": "code",
   "execution_count": 10,
   "id": "af12c289",
   "metadata": {},
   "outputs": [
    {
     "ename": "AttributeError",
     "evalue": "'NoneType' object has no attribute 'text'",
     "output_type": "error",
     "traceback": [
      "\u001b[1;31m---------------------------------------------------------------------------\u001b[0m",
      "\u001b[1;31mAttributeError\u001b[0m                            Traceback (most recent call last)",
      "\u001b[1;32m~\\AppData\\Local\\Temp/ipykernel_13808/2851986646.py\u001b[0m in \u001b[0;36m<module>\u001b[1;34m\u001b[0m\n\u001b[0;32m      1\u001b[0m \u001b[0mtitle\u001b[0m \u001b[1;33m=\u001b[0m \u001b[0msoup\u001b[0m\u001b[1;33m.\u001b[0m\u001b[0mfind\u001b[0m\u001b[1;33m(\u001b[0m\u001b[1;34m'h1'\u001b[0m\u001b[1;33m,\u001b[0m \u001b[0mclass_\u001b[0m \u001b[1;33m=\u001b[0m \u001b[1;34m'css-dyjx0f'\u001b[0m\u001b[1;33m)\u001b[0m\u001b[1;33m\u001b[0m\u001b[1;33m\u001b[0m\u001b[0m\n\u001b[1;32m----> 2\u001b[1;33m \u001b[0mtitle_text\u001b[0m \u001b[1;33m=\u001b[0m \u001b[0mtitle\u001b[0m\u001b[1;33m.\u001b[0m\u001b[0mtext\u001b[0m\u001b[1;33m\u001b[0m\u001b[1;33m\u001b[0m\u001b[0m\n\u001b[0m\u001b[0;32m      3\u001b[0m \u001b[1;33m\u001b[0m\u001b[0m\n\u001b[0;32m      4\u001b[0m \u001b[0mno_reviews\u001b[0m \u001b[1;33m=\u001b[0m \u001b[0msoup\u001b[0m\u001b[1;33m.\u001b[0m\u001b[0mfind\u001b[0m\u001b[1;33m(\u001b[0m\u001b[1;34m'span'\u001b[0m\u001b[1;33m,\u001b[0m \u001b[0mclass_\u001b[0m \u001b[1;33m=\u001b[0m \u001b[1;34m'css-1fdy0l5'\u001b[0m\u001b[1;33m)\u001b[0m\u001b[1;33m\u001b[0m\u001b[1;33m\u001b[0m\u001b[0m\n\u001b[0;32m      5\u001b[0m \u001b[0mno_reviews\u001b[0m\u001b[1;33m.\u001b[0m\u001b[0mtext\u001b[0m\u001b[1;33m\u001b[0m\u001b[1;33m\u001b[0m\u001b[0m\n",
      "\u001b[1;31mAttributeError\u001b[0m: 'NoneType' object has no attribute 'text'"
     ]
    }
   ],
   "source": [
    "title = soup.find('h1', class_ = 'css-dyjx0f')\n",
    "title_text = title.text\n",
    "\n",
    "no_reviews = soup.find('span', class_ = 'css-1fdy0l5')\n",
    "no_reviews.text\n",
    "review_count=no_reviews.text.split()\n",
    "tot_reviews=review_count[0]\n",
    "tot_reviews\n",
    "\n",
    "review_text = soup.find_all('p', class_ = 'comment__09f24__gu0rG css-qgunke')\n",
    "review_text\n",
    "\n",
    "tot_review_text = []\n",
    "\n",
    "for i in review_text:\n",
    "    tot_review_text.append(i.text)\n",
    "    \n",
    "tot_review_text\n",
    "\n",
    "reviewer = soup.find_all('span', class_=\"fs-block css-ux5mu6\")\n",
    "reviewer_name = []\n",
    "\n",
    "for i in reviewer:\n",
    "    reviewer_name.append(i.text)\n",
    "    \n",
    "reviewer_name = reviewer_name[1:]\n",
    "\n",
    "rating = soup.find_all('div', class_ = 'five-stars__09f24__mBKym five-stars--regular__09f24__DgBNj display--inline-block__09f24__fEDiJ border-color--default__09f24__NPAKY')\n",
    "\n",
    "tot_rating =[]\n",
    "\n",
    "for i in rating:\n",
    "    p=i.get('aria-label')\n",
    "    tot_rating.append(p)\n",
    "tot_rating = tot_rating[:10]\n",
    "\n",
    "loc = soup.find_all('span', class_ ='css-qgunke')\n",
    "loc_text = []\n",
    "\n",
    "for i in loc:\n",
    "    loc_text.append(i.text)\n",
    "loc_text=loc_text[6:-1]\n",
    "\n",
    "o_r = soup.find_all('div', class_ = 'five-stars__09f24__mBKym five-stars--large__09f24__Waiqf display--inline-block__09f24__fEDiJ border-color--default__09f24__NPAKY')\n",
    "overall_rating = []\n",
    "for i in o_r:    \n",
    "    g=i.get('aria-label')\n",
    "    overall_rating.append(g)\n",
    "\n",
    "info = soup.find_all('p', class_ = 'css-1p9ibgf')\n",
    "info_list = []\n",
    "for i in info:\n",
    "    info_list.append(i.text)\n",
    "\n",
    "overall_rating = overall_rating[0]\n",
    "phone = info_list[-2]\n",
    "website = info_list[-3]"
   ]
  },
  {
   "cell_type": "code",
   "execution_count": 2,
   "id": "e108284d",
   "metadata": {},
   "outputs": [
    {
     "ename": "NameError",
     "evalue": "name 'title_text' is not defined",
     "output_type": "error",
     "traceback": [
      "\u001b[1;31m---------------------------------------------------------------------------\u001b[0m",
      "\u001b[1;31mNameError\u001b[0m                                 Traceback (most recent call last)",
      "\u001b[1;32m~\\AppData\\Local\\Temp/ipykernel_13808/4135866668.py\u001b[0m in \u001b[0;36m<module>\u001b[1;34m\u001b[0m\n\u001b[1;32m----> 1\u001b[1;33m \u001b[1;32mwith\u001b[0m \u001b[0mopen\u001b[0m\u001b[1;33m(\u001b[0m\u001b[1;34mf'{title_text}.csv'\u001b[0m\u001b[1;33m,\u001b[0m \u001b[1;34m'w'\u001b[0m\u001b[1;33m,\u001b[0m \u001b[0mencoding\u001b[0m \u001b[1;33m=\u001b[0m \u001b[1;34m'utf8'\u001b[0m\u001b[1;33m,\u001b[0m \u001b[0mnewline\u001b[0m \u001b[1;33m=\u001b[0m \u001b[1;34m''\u001b[0m\u001b[1;33m)\u001b[0m \u001b[1;32mas\u001b[0m \u001b[0mf\u001b[0m\u001b[1;33m:\u001b[0m\u001b[1;33m\u001b[0m\u001b[1;33m\u001b[0m\u001b[0m\n\u001b[0m\u001b[0;32m      2\u001b[0m     \u001b[0mthewriter\u001b[0m \u001b[1;33m=\u001b[0m \u001b[0mwriter\u001b[0m\u001b[1;33m(\u001b[0m\u001b[0mf\u001b[0m\u001b[1;33m)\u001b[0m\u001b[1;33m\u001b[0m\u001b[1;33m\u001b[0m\u001b[0m\n\u001b[0;32m      3\u001b[0m     \u001b[0mheader\u001b[0m \u001b[1;33m=\u001b[0m \u001b[1;33m[\u001b[0m\u001b[1;34m'User_Review'\u001b[0m\u001b[1;33m,\u001b[0m \u001b[1;34m'Name'\u001b[0m\u001b[1;33m,\u001b[0m \u001b[1;34m'Given_Rating'\u001b[0m\u001b[1;33m,\u001b[0m \u001b[1;34m'User_Location'\u001b[0m\u001b[1;33m]\u001b[0m\u001b[1;33m\u001b[0m\u001b[1;33m\u001b[0m\u001b[0m\n\u001b[0;32m      4\u001b[0m     \u001b[0mthewriter\u001b[0m\u001b[1;33m.\u001b[0m\u001b[0mwriterow\u001b[0m\u001b[1;33m(\u001b[0m\u001b[0mheader\u001b[0m\u001b[1;33m)\u001b[0m\u001b[1;33m\u001b[0m\u001b[1;33m\u001b[0m\u001b[0m\n\u001b[0;32m      5\u001b[0m     \u001b[1;32mfor\u001b[0m \u001b[0mi\u001b[0m \u001b[1;32min\u001b[0m \u001b[0mrange\u001b[0m\u001b[1;33m(\u001b[0m\u001b[1;36m0\u001b[0m\u001b[1;33m,\u001b[0m\u001b[0mlen\u001b[0m\u001b[1;33m(\u001b[0m\u001b[0mtot_rating\u001b[0m\u001b[1;33m)\u001b[0m\u001b[1;33m)\u001b[0m\u001b[1;33m:\u001b[0m\u001b[1;33m\u001b[0m\u001b[1;33m\u001b[0m\u001b[0m\n",
      "\u001b[1;31mNameError\u001b[0m: name 'title_text' is not defined"
     ]
    }
   ],
   "source": [
    "with open(f'{title_text}.csv', 'w', encoding = 'utf8', newline = '') as f:\n",
    "    thewriter = writer(f)\n",
    "    header = ['User_Review', 'Name', 'Given_Rating', 'User_Location']\n",
    "    thewriter.writerow(header)    \n",
    "    for i in range(0,len(tot_rating)):\n",
    "        info = [tot_review_text[i], reviewer_name[i], tot_rating[i], loc_text[i]]\n",
    "        thewriter.writerow(info)"
   ]
  },
  {
   "cell_type": "code",
   "execution_count": 3,
   "id": "e2210417",
   "metadata": {},
   "outputs": [
    {
     "ename": "NameError",
     "evalue": "name 'title_text' is not defined",
     "output_type": "error",
     "traceback": [
      "\u001b[1;31m---------------------------------------------------------------------------\u001b[0m",
      "\u001b[1;31mNameError\u001b[0m                                 Traceback (most recent call last)",
      "\u001b[1;32m~\\AppData\\Local\\Temp/ipykernel_13808/2996045198.py\u001b[0m in \u001b[0;36m<module>\u001b[1;34m\u001b[0m\n\u001b[1;32m----> 1\u001b[1;33m \u001b[0mtitle_text\u001b[0m\u001b[1;33m\u001b[0m\u001b[1;33m\u001b[0m\u001b[0m\n\u001b[0m",
      "\u001b[1;31mNameError\u001b[0m: name 'title_text' is not defined"
     ]
    }
   ],
   "source": [
    "title_text"
   ]
  },
  {
   "cell_type": "code",
   "execution_count": 4,
   "id": "95b43c39",
   "metadata": {
    "scrolled": true
   },
   "outputs": [
    {
     "ename": "NameError",
     "evalue": "name 'tot_reviews' is not defined",
     "output_type": "error",
     "traceback": [
      "\u001b[1;31m---------------------------------------------------------------------------\u001b[0m",
      "\u001b[1;31mNameError\u001b[0m                                 Traceback (most recent call last)",
      "\u001b[1;32m~\\AppData\\Local\\Temp/ipykernel_13808/2848012098.py\u001b[0m in \u001b[0;36m<module>\u001b[1;34m\u001b[0m\n\u001b[1;32m----> 1\u001b[1;33m \u001b[0mtot_reviews\u001b[0m\u001b[1;33m\u001b[0m\u001b[1;33m\u001b[0m\u001b[0m\n\u001b[0m",
      "\u001b[1;31mNameError\u001b[0m: name 'tot_reviews' is not defined"
     ]
    }
   ],
   "source": [
    "tot_reviews"
   ]
  },
  {
   "cell_type": "code",
   "execution_count": 5,
   "id": "cf87ea1a",
   "metadata": {},
   "outputs": [
    {
     "ename": "NameError",
     "evalue": "name 'website' is not defined",
     "output_type": "error",
     "traceback": [
      "\u001b[1;31m---------------------------------------------------------------------------\u001b[0m",
      "\u001b[1;31mNameError\u001b[0m                                 Traceback (most recent call last)",
      "\u001b[1;32m~\\AppData\\Local\\Temp/ipykernel_13808/3146685648.py\u001b[0m in \u001b[0;36m<module>\u001b[1;34m\u001b[0m\n\u001b[1;32m----> 1\u001b[1;33m \u001b[0mwebsite\u001b[0m\u001b[1;33m\u001b[0m\u001b[1;33m\u001b[0m\u001b[0m\n\u001b[0m",
      "\u001b[1;31mNameError\u001b[0m: name 'website' is not defined"
     ]
    }
   ],
   "source": [
    "website"
   ]
  },
  {
   "cell_type": "code",
   "execution_count": 6,
   "id": "1157ea89",
   "metadata": {},
   "outputs": [
    {
     "ename": "NameError",
     "evalue": "name 'overall_rating' is not defined",
     "output_type": "error",
     "traceback": [
      "\u001b[1;31m---------------------------------------------------------------------------\u001b[0m",
      "\u001b[1;31mNameError\u001b[0m                                 Traceback (most recent call last)",
      "\u001b[1;32m~\\AppData\\Local\\Temp/ipykernel_13808/196185857.py\u001b[0m in \u001b[0;36m<module>\u001b[1;34m\u001b[0m\n\u001b[1;32m----> 1\u001b[1;33m \u001b[0moverall_rating\u001b[0m\u001b[1;33m\u001b[0m\u001b[1;33m\u001b[0m\u001b[0m\n\u001b[0m",
      "\u001b[1;31mNameError\u001b[0m: name 'overall_rating' is not defined"
     ]
    }
   ],
   "source": [
    "overall_rating"
   ]
  },
  {
   "cell_type": "code",
   "execution_count": 7,
   "id": "66cb9b6e",
   "metadata": {},
   "outputs": [
    {
     "ename": "NameError",
     "evalue": "name 'phone' is not defined",
     "output_type": "error",
     "traceback": [
      "\u001b[1;31m---------------------------------------------------------------------------\u001b[0m",
      "\u001b[1;31mNameError\u001b[0m                                 Traceback (most recent call last)",
      "\u001b[1;32m~\\AppData\\Local\\Temp/ipykernel_13808/2858216951.py\u001b[0m in \u001b[0;36m<module>\u001b[1;34m\u001b[0m\n\u001b[1;32m----> 1\u001b[1;33m \u001b[0mphone\u001b[0m\u001b[1;33m\u001b[0m\u001b[1;33m\u001b[0m\u001b[0m\n\u001b[0m",
      "\u001b[1;31mNameError\u001b[0m: name 'phone' is not defined"
     ]
    }
   ],
   "source": [
    "phone"
   ]
  },
  {
   "cell_type": "code",
   "execution_count": null,
   "id": "a8eb6ebe",
   "metadata": {},
   "outputs": [],
   "source": []
  }
 ],
 "metadata": {
  "kernelspec": {
   "display_name": "Python 3 (ipykernel)",
   "language": "python",
   "name": "python3"
  },
  "language_info": {
   "codemirror_mode": {
    "name": "ipython",
    "version": 3
   },
   "file_extension": ".py",
   "mimetype": "text/x-python",
   "name": "python",
   "nbconvert_exporter": "python",
   "pygments_lexer": "ipython3",
   "version": "3.9.7"
  }
 },
 "nbformat": 4,
 "nbformat_minor": 5
}
