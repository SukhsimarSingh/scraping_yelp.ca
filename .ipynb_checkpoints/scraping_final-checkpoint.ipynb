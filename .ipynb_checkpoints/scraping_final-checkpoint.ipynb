{
 "cells": [
  {
   "cell_type": "markdown",
   "id": "eb938812",
   "metadata": {},
   "source": [
    "# Yelp.ca Scraping Project"
   ]
  },
  {
   "cell_type": "markdown",
   "id": "503ad4c2",
   "metadata": {},
   "source": [
    "In this project, we will be scraping restaurant information from Yelp toronto website(https://www.yelp.ca/toronto). Make inferences from the data collected and finally going a sentiment analysis of the reviews collected and implementing Natural Language Processing (NLP) techniques. "
   ]
  },
  {
   "cell_type": "markdown",
   "id": "8c08a3a7",
   "metadata": {},
   "source": [
    "## Table of Contents\n",
    "- Imports\n",
    "- Fetching URL\n",
    "- Creating Scraper"
   ]
  },
  {
   "cell_type": "markdown",
   "id": "9a9f8a65",
   "metadata": {},
   "source": [
    "### Imports"
   ]
  },
  {
   "cell_type": "code",
   "execution_count": 1,
   "id": "ff941cc5",
   "metadata": {},
   "outputs": [],
   "source": [
    "import os\n",
    "import requests\n",
    "import re\n",
    "from bs4 import BeautifulSoup\n",
    "from csv import writer"
   ]
  },
  {
   "cell_type": "markdown",
   "id": "21a106d0",
   "metadata": {},
   "source": [
    "### Fetching the url"
   ]
  },
  {
   "cell_type": "code",
   "execution_count": 5,
   "id": "7af6ff7e",
   "metadata": {
    "scrolled": false
   },
   "outputs": [
    {
     "name": "stdout",
     "output_type": "stream",
     "text": [
      "Enter url of a yelp restaurant: https://www.yelp.ca/biz/jollibee-toronto-16\n"
     ]
    }
   ],
   "source": [
    "#\"https://www.yelp.ca/biz/khao-san-road-toronto?page_src=related_bizes\"\n",
    "url = input(\"Enter url of a yelp restaurant: \")\n",
    "page = requests.get(url)\n",
    "\n",
    "if not re.match(r'https?://www.yelp.ca/',url):\n",
    "    print('Please enter a valid yelp.ca url')\n",
    "    sys.exit(1)\n",
    "\n",
    "soup = BeautifulSoup(page.content, 'html.parser')\n",
    "\n",
    "for div in soup.find_all(\"div\", class_ = 'block-quote__09f24__nMk2G padding-l3__09f24__IOjKY border-color--default__09f24__NPAKY'): \n",
    "    div.decompose()"
   ]
  },
  {
   "cell_type": "markdown",
   "id": "e9222cac",
   "metadata": {},
   "source": [
    "Using Jolibee Restaurant url on yelp.ca"
   ]
  },
  {
   "cell_type": "markdown",
   "id": "02195eb9",
   "metadata": {},
   "source": [
    "### Creating Scraper"
   ]
  },
  {
   "cell_type": "markdown",
   "id": "2606145a",
   "metadata": {},
   "source": [
    "Extracting Restaurant Name"
   ]
  },
  {
   "cell_type": "code",
   "execution_count": 9,
   "id": "da3d9eb3",
   "metadata": {
    "scrolled": true
   },
   "outputs": [
    {
     "data": {
      "text/plain": [
       "'Jollibee'"
      ]
     },
     "execution_count": 9,
     "metadata": {},
     "output_type": "execute_result"
    }
   ],
   "source": [
    "title = soup.find('h1', class_ = 'css-1se8maq')\n",
    "title_text = title.text\n",
    "title_text"
   ]
  },
  {
   "cell_type": "markdown",
   "id": "3f8f1a50",
   "metadata": {},
   "source": [
    "Extracting Total Reviews"
   ]
  },
  {
   "cell_type": "code",
   "execution_count": 11,
   "id": "e941a191",
   "metadata": {},
   "outputs": [
    {
     "data": {
      "text/plain": [
       "'8'"
      ]
     },
     "execution_count": 11,
     "metadata": {},
     "output_type": "execute_result"
    }
   ],
   "source": [
    "no_reviews = soup.find('span', class_ = 'css-1fdy0l5')\n",
    "no_reviews.text\n",
    "review_count=no_reviews.text.split()\n",
    "tot_reviews=review_count[0]\n",
    "tot_reviews"
   ]
  },
  {
   "cell_type": "markdown",
   "id": "b208faa4",
   "metadata": {},
   "source": [
    "Exracting Reviews Text"
   ]
  },
  {
   "cell_type": "code",
   "execution_count": 13,
   "id": "07b0339b",
   "metadata": {
    "scrolled": true
   },
   "outputs": [
    {
     "data": {
      "text/plain": [
       "[\"The food is good here!!!! The friendly quick and efficient staff big thanks to them. Can't go wrong with chicken and spaghetti so goood. The peach mango pie is a must have. The pineapple juice was also very good. Enjoyed food here and take out. Would come back again A++++. Also this location doesn't have crazy kuku line ups like the other ones\",\n",
       " 'I love coming here when I visit Toronto :) fast and friendly service and the food is always fresh and yummy. I love the jolly spaghetti, the chicken and peach mango pie \\xa0also the fresh pineapple juice is super refreshing. I love JOLLIBEE',\n",
       " \"I'm Filipino and biased, but I firmly believe with all my heart and tastebuds that Jollibee's spicy fried chicken is the best fastfood fried chicken out there. (I am objective enough to also know this isn't the case for the original fried chicken).Other go-to's:- Jolly Spaghetti: Sweet spaghetti. Sounds weird? Yes it is. But it pairs sooooo well with the spicy fried chicken! And at the very least, it's an experience for you out there with the more refined (or snooty) palettes.- Peach Mango Pie: Apply pie shmapple pie. Get that outta here! Peach mango pie is the undisputed champ of fastfood chain desserts! They have other flavours like banana-jackfruit and ube, but this isnthenbest of them.Jollibee is not perfect fastfood (fries are limp, burgers are flat and dry-ish). But I always leave it with a satisified belly and a smile on my face. Till next time!\",\n",
       " \"I am Filipino and although Jollibee has been in Canada for several years now, I hadn't tried it until recently. \\xa0I got the chicken meal with rice and gravy. \\xa0My partner got the chicken sandwich. \\xa0We also got a mango peach pie and a banana pie. \\xa0The chicken was delicious and crispy. \\xa0I love it with a bit of gravy and rice. \\xa0My partner really liked the sandwich and the pies were amazing. \\xa0The staff were incredibly friendly. \\xa0They'll be my go to for fast food fried chicken!\",\n",
       " \"Spicy chicken OG sandwich:good spice \\xa0leveljuicy chicken, thick piece breading : not too much, didn't fall offbun: soft Very good overall, will go back for sure\",\n",
       " \"My Filipino friends introduced me to Jollibee. It's the best fried chicken IMO. Love their spicy fried chicken and the pineapple quench! Very satisfying. Not a fan of their pasta, it's kind of sweet. Other people might like it.\",\n",
       " 'I\\'d been curious about Jollibee for a long time, so I was excited when I found out a location would be opening in my neck of the woods.I happened to be out for a walk on an unseasonably warm December day when I made the spontaneous decision to walk inside and grab something for lunch.I suppose Jollibee is most famous for their spaghetti and fried chicken, but those aren\\'t exactly items you can eat and walk, so I opted for the Spicy Deluxe Chicken Sandwich (\"Our Spicy Chicken Sandwich starts with a crispy juicy hand-breaded chicken breast fillet, spread with sriracha mayo, topped \\xa0with fresh sliced tomato and crisp lettuce, and served with fresh jalapenos on a toasted brioche bun\").I had a good view of the kitchen from where I was standing, so I saw the guy make my sandwich and then start to hand it off to the cashier, but then he quickly took it back and added the aforementioned tomato and lettuce. I didn\\'t get any jalapenos.It\\'s a decent sandwich. The chicken is neither fresh nor hot, but it at least does boast a decent crunch. The sparsely-applied sriracha mayo doesn\\'t provide much in the way of heat, so the sandwich isn\\'t, despite the name, particularly spicy. The missing jalapenos probably would\\'ve helped.I\\'ll definitely be returning to try some of Jollibee\\'s other items, but based on this first experience, I\\'m not holding much hope for a top-tier experience.',\n",
       " \"I've been waiting forever for this location to open up! They had the sign up for months and it wasn't until last week when I saw they were opening their doors on September 10th!Knowing how popular Jollibee is, I placed my order on their website for pickup. I recall visiting their first location in Scarborough when it first opened. Even if you visit to their store at 11pm at night, the lineup is still out the door and you need to wait for your order! This is the main reason why I haven't had Jollibee until now. When I went to pick up my order, I see they had arrangements for lineups outside for walk in as well as a line for order pick up. When I stepped inside, I saw there's people lining up at the counter as well as people seated in their sitting area waiting for their orders. They had a staff at the entrance, I told him I placed an order online, and they had my order ready at their pick up shelf. It was a quick and easy experience and the staff was friendly and quick! I ordered the 6 piece bucket with half original and half spicy flavour. The original flavour itself was very tasty, but I wanted to challenge my taste buds with the spicy option. The spicy flavour was delicious also, but I personally find it a little spicy for me (I can't take a lot of heat). For those who love spice should totally go for the spicy option! I do need to go back to pick up their peach mango pie!\"]"
      ]
     },
     "execution_count": 13,
     "metadata": {},
     "output_type": "execute_result"
    }
   ],
   "source": [
    "review_text = soup.find_all('p', class_ = 'comment__09f24__gu0rG css-qgunke')\n",
    "review_text\n",
    "\n",
    "tot_review_text = []\n",
    "\n",
    "for i in review_text:\n",
    "    tot_review_text.append(i.text)\n",
    "    \n",
    "tot_review_text"
   ]
  },
  {
   "cell_type": "markdown",
   "id": "3aeff2b0",
   "metadata": {},
   "source": [
    "Extracting Reviewer Names"
   ]
  },
  {
   "cell_type": "code",
   "execution_count": 15,
   "id": "9ba723ef",
   "metadata": {
    "scrolled": true
   },
   "outputs": [
    {
     "data": {
      "text/plain": [
       "['Jonny T.',\n",
       " 'T S.',\n",
       " 'David Y.',\n",
       " 'Lisa B.',\n",
       " 'Amelia J.',\n",
       " '佳琛',\n",
       " 'David N.',\n",
       " 'Daisy W.']"
      ]
     },
     "execution_count": 15,
     "metadata": {},
     "output_type": "execute_result"
    }
   ],
   "source": [
    "reviewer = soup.find_all('span', class_=\"fs-block css-ux5mu6\")\n",
    "reviewer_name = []\n",
    "\n",
    "for i in reviewer:\n",
    "    reviewer_name.append(i.text)\n",
    "    \n",
    "reviewer_name = reviewer_name[1:]\n",
    "reviewer_name"
   ]
  },
  {
   "cell_type": "markdown",
   "id": "7da671d6",
   "metadata": {},
   "source": [
    "Extracting the Ratings given by each User"
   ]
  },
  {
   "cell_type": "code",
   "execution_count": 17,
   "id": "877d6738",
   "metadata": {
    "scrolled": true
   },
   "outputs": [
    {
     "data": {
      "text/plain": [
       "['5 star rating',\n",
       " '5 star rating',\n",
       " '4 star rating',\n",
       " '5 star rating',\n",
       " '4 star rating',\n",
       " '4 star rating',\n",
       " '3 star rating',\n",
       " '5 star rating']"
      ]
     },
     "execution_count": 17,
     "metadata": {},
     "output_type": "execute_result"
    }
   ],
   "source": [
    "rating = soup.find_all('div', class_ = 'five-stars__09f24__mBKym five-stars--regular__09f24__DgBNj display--inline-block__09f24__fEDiJ border-color--default__09f24__NPAKY')\n",
    "\n",
    "tot_rating =[]\n",
    "\n",
    "for i in rating:\n",
    "    p=i.get('aria-label')\n",
    "    tot_rating.append(p)\n",
    "tot_rating = tot_rating[:10]\n",
    "tot_rating"
   ]
  },
  {
   "cell_type": "markdown",
   "id": "e8fc62bf",
   "metadata": {},
   "source": [
    "Extracting User Location"
   ]
  },
  {
   "cell_type": "code",
   "execution_count": 20,
   "id": "26e66045",
   "metadata": {
    "scrolled": true
   },
   "outputs": [
    {
     "data": {
      "text/plain": [
       "['Toronto, ON',\n",
       " 'Grosse Pointe, United States',\n",
       " 'Toronto, ON',\n",
       " 'Toronto, ON',\n",
       " 'Toronto, ON',\n",
       " 'Toronto, ON',\n",
       " 'Toronto, ON',\n",
       " 'Old Toronto, Toronto, ON']"
      ]
     },
     "execution_count": 20,
     "metadata": {},
     "output_type": "execute_result"
    }
   ],
   "source": [
    "loc = soup.find_all('span', class_ ='css-qgunke')\n",
    "loc_text = []\n",
    "\n",
    "for i in loc:\n",
    "    loc_text.append(i.text)\n",
    "loc_text=loc_text[6:-1]\n",
    "loc_text"
   ]
  },
  {
   "cell_type": "markdown",
   "id": "1c516f0d",
   "metadata": {},
   "source": [
    "Overall Rating"
   ]
  },
  {
   "cell_type": "code",
   "execution_count": 26,
   "id": "5897d786",
   "metadata": {},
   "outputs": [
    {
     "data": {
      "text/plain": [
       "'4.5 star rating'"
      ]
     },
     "execution_count": 26,
     "metadata": {},
     "output_type": "execute_result"
    }
   ],
   "source": [
    "o_r = soup.find_all('div', class_ = 'five-stars__09f24__mBKym five-stars--large__09f24__Waiqf display--inline-block__09f24__fEDiJ border-color--default__09f24__NPAKY')\n",
    "overall_rating = []\n",
    "for i in o_r:    \n",
    "    g=i.get('aria-label')\n",
    "    overall_rating.append(g)\n",
    "overall_rating = overall_rating[0]\n",
    "overall_rating"
   ]
  },
  {
   "cell_type": "markdown",
   "id": "664a0319",
   "metadata": {},
   "source": [
    "Opening/ closing information, restaurant website url and contact details "
   ]
  },
  {
   "cell_type": "code",
   "execution_count": 27,
   "id": "62da5d51",
   "metadata": {
    "scrolled": true
   },
   "outputs": [
    {
     "data": {
      "text/plain": [
       "['Mon',\n",
       " '10:00 AM - 10:00 PM',\n",
       " '10:00 AM - 10:00 PM',\n",
       " 'Wed',\n",
       " '10:00 AM - 10:00 PM',\n",
       " 'Thu',\n",
       " '10:00 AM - 10:00 PM',\n",
       " 'Fri',\n",
       " '10:00 AM - 10:00 PM',\n",
       " 'Sat',\n",
       " '10:00 AM - 10:00 PM',\n",
       " 'Sun',\n",
       " '10:00 AM - 10:00 PM',\n",
       " 'http://jollibeecanada.com',\n",
       " '(647) 424-4772',\n",
       " 'Get Directions']"
      ]
     },
     "execution_count": 27,
     "metadata": {},
     "output_type": "execute_result"
    }
   ],
   "source": [
    "info = soup.find_all('p', class_ = 'css-1p9ibgf')\n",
    "info_list = []\n",
    "for i in info:\n",
    "    info_list.append(i.text)\n",
    "info_list"
   ]
  },
  {
   "cell_type": "code",
   "execution_count": 29,
   "id": "547c949b",
   "metadata": {},
   "outputs": [
    {
     "name": "stdout",
     "output_type": "stream",
     "text": [
      "(647) 424-4772 http://jollibeecanada.com\n"
     ]
    }
   ],
   "source": [
    "phone = info_list[-2]\n",
    "website = info_list[-3]\n",
    "print(phone, website)"
   ]
  },
  {
   "cell_type": "markdown",
   "id": "e4d56dda",
   "metadata": {},
   "source": [
    "Writing a CSV file to store the information acquired"
   ]
  },
  {
   "cell_type": "code",
   "execution_count": 32,
   "id": "9b2c54c9",
   "metadata": {},
   "outputs": [
    {
     "name": "stdout",
     "output_type": "stream",
     "text": [
      "The file Jollibee.csv created.\n"
     ]
    }
   ],
   "source": [
    "try:\n",
    "    with open(f'{title_text}.csv', 'w', encoding = 'utf8', newline = '') as f:\n",
    "        thewriter = writer(f)\n",
    "        header = ['User_Review', 'Name', 'Given_Rating', 'User_Location']\n",
    "        thewriter.writerow(header)    \n",
    "        for i in range(0,len(tot_rating)):\n",
    "            info = [tot_review_text[i], reviewer_name[i], tot_rating[i], loc_text[i]]\n",
    "            thewriter.writerow(info)\n",
    "    print(f\"The file {title_text}.csv created.\")\n",
    "except FileNotFoundError:\n",
    "    print(f\"The file {title_text} does not exist.\")\n",
    "except:\n",
    "    print(f\"An error occurred while writing to {title_text}.\")"
   ]
  }
 ],
 "metadata": {
  "kernelspec": {
   "display_name": "Python 3 (ipykernel)",
   "language": "python",
   "name": "python3"
  },
  "language_info": {
   "codemirror_mode": {
    "name": "ipython",
    "version": 3
   },
   "file_extension": ".py",
   "mimetype": "text/x-python",
   "name": "python",
   "nbconvert_exporter": "python",
   "pygments_lexer": "ipython3",
   "version": "3.9.7"
  }
 },
 "nbformat": 4,
 "nbformat_minor": 5
}
